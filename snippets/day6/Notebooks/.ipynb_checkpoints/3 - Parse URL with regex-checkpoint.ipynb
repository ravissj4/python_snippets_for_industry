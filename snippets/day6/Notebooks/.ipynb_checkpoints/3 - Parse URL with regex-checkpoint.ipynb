{
 "cells": [
  {
   "cell_type": "code",
   "execution_count": 1,
   "metadata": {},
   "outputs": [],
   "source": [
    "import re\n",
    "import time\n",
    "import requests\n",
    "\n",
    "from requests_html import HTML\n",
    "from selenium import webdriver\n",
    "from selenium.webdriver.chrome.options import Options"
   ]
  },
  {
   "cell_type": "code",
   "execution_count": 2,
   "metadata": {},
   "outputs": [],
   "source": [
    "options = Options()\n",
    "options.add_argument('--headless')\n",
    "\n",
    "driver = webdriver.Chrome(options=options)\n"
   ]
  },
  {
   "cell_type": "code",
   "execution_count": 3,
   "metadata": {},
   "outputs": [],
   "source": [
    "# categories_urls = [\n",
    "#     'https://www.amazon.in/gp/bestsellers/computers/1375424031/ref=zg_bs_nav_pc_1_pc',\n",
    "#     'https://www.amazon.in/gp/bestsellers/electronics/1389396031/ref=zg_bs_nav_e_2_1389375031',\n",
    "#     'https://www.amazon.in/gp/bestsellers/watches/ref=zg_bs_nav_0',\n",
    "# ]"
   ]
  },
  {
   "cell_type": "code",
   "execution_count": 4,
   "metadata": {},
   "outputs": [],
   "source": [
    "categories_urls = [\n",
    "    'https://www.amazon.in/gp/bestsellers/computers/1375424031',\n",
    "    'https://www.amazon.in/gp/bestsellers/electronics/1389396031',\n",
    "    'https://www.amazon.in/gp/bestsellers/watches',\n",
    "]"
   ]
  },
  {
   "cell_type": "code",
   "execution_count": 5,
   "metadata": {},
   "outputs": [],
   "source": [
    "prod_title_lookup = '#productTitle'\n",
    "prod_price_lookup = '#priceblock_ourprice'\n"
   ]
  },
  {
   "cell_type": "code",
   "execution_count": 6,
   "metadata": {},
   "outputs": [],
   "source": [
    "driver.get(categories_urls[0])\n",
    "body_el = driver.find_element_by_css_selector('body')\n",
    "html_str = body_el.get_attribute('innerHTML')"
   ]
  },
  {
   "cell_type": "code",
   "execution_count": 7,
   "metadata": {},
   "outputs": [],
   "source": [
    "# print(html_str)"
   ]
  },
  {
   "cell_type": "code",
   "execution_count": 8,
   "metadata": {},
   "outputs": [],
   "source": [
    "html_obj = HTML(html=html_str)"
   ]
  },
  {
   "cell_type": "code",
   "execution_count": 9,
   "metadata": {},
   "outputs": [],
   "source": [
    "# html_obj.links"
   ]
  },
  {
   "cell_type": "code",
   "execution_count": 10,
   "metadata": {},
   "outputs": [],
   "source": [
    "new_links = [x for x in html_obj.links if x.startswith('/')]"
   ]
  },
  {
   "cell_type": "code",
   "execution_count": 11,
   "metadata": {},
   "outputs": [],
   "source": [
    "page_links = [f'https://www.amazon.in{x}' for x in new_links]"
   ]
  },
  {
   "cell_type": "code",
   "execution_count": 12,
   "metadata": {},
   "outputs": [],
   "source": [
    "page_links_new = [x for x in page_links if 'product-reviews/' not in x]\n"
   ]
  },
  {
   "cell_type": "code",
   "execution_count": 13,
   "metadata": {},
   "outputs": [
    {
     "data": {
      "text/plain": [
       "166"
      ]
     },
     "execution_count": 13,
     "metadata": {},
     "output_type": "execute_result"
    }
   ],
   "source": [
    "len(page_links)"
   ]
  },
  {
   "cell_type": "code",
   "execution_count": 14,
   "metadata": {},
   "outputs": [
    {
     "data": {
      "text/plain": [
       "118"
      ]
     },
     "execution_count": 14,
     "metadata": {},
     "output_type": "execute_result"
    }
   ],
   "source": [
    "len(page_links_new)"
   ]
  },
  {
   "cell_type": "code",
   "execution_count": 15,
   "metadata": {},
   "outputs": [
    {
     "data": {
      "text/plain": [
       "'https://www.amazon.in/HP-Pavilion-14-inch-Touchscreen-14-dh1006TU/dp/B07WFPSWVN/ref=zg_bs_1375424031_29/261-8413091-4364038?_encoding=UTF8&psc=1&refRID=M2VCJA9K4JCH85MSR9NF'"
      ]
     },
     "execution_count": 15,
     "metadata": {},
     "output_type": "execute_result"
    }
   ],
   "source": [
    "first_prod_link = page_links_new[0]\n",
    "first_prod_link"
   ]
  },
  {
   "cell_type": "code",
   "execution_count": 16,
   "metadata": {},
   "outputs": [],
   "source": [
    "# # now need to iterate over all links and see if we get the product title and price\n",
    "# product_title, product_price = (None, None)\n",
    "# for link in page_links:\n",
    "#     time.sleep(1.2)\n",
    "#     driver.get(link)\n",
    "#     body_el = driver.find_element_by_css_selector('body')\n",
    "#     html_str = body_el.get_attribute('innerHTML')\n",
    "#     html_obj = HTML(html=html_str)\n",
    "#     try:\n",
    "#         product_title = html_obj.find(selector=prod_title_lookup, first=True).text\n",
    "#         product_price = html_obj.find(selector=prod_price_lookup, first=True).text\n",
    "#     except:\n",
    "#         pass\n",
    "#     print(product_title, product_price)"
   ]
  },
  {
   "cell_type": "code",
   "execution_count": 17,
   "metadata": {},
   "outputs": [],
   "source": [
    "# now need to iterate over all links and see if we get the product title and price\n",
    "def scrape_product_title_and_price(url, prod_title_lookup='#productTitle', prod_price_lookup='#priceblock_ourprice'):\n",
    "    \n",
    "    driver.get(url)\n",
    "    time.sleep(1.2)\n",
    "    body = driver.find_element_by_css_selector('body')\n",
    "    html_string = body.get_attribute('innerHTML')\n",
    "    html_object = HTML(html=html_string)\n",
    "    product_title = html_object.find(selector=prod_title_lookup, first=True).text\n",
    "    product_price = html_object.find(selector=prod_price_lookup, first=True).text\n",
    "    return (product_title, product_price)"
   ]
  },
  {
   "cell_type": "code",
   "execution_count": null,
   "metadata": {},
   "outputs": [
    {
     "name": "stdout",
     "output_type": "stream",
     "text": [
      "https://www.amazon.in/HP-Pavilion-14-inch-Touchscreen-14-dh1006TU/dp/B07WFPSWVN/ref=zg_bs_1375424031_29/261-8413091-4364038?_encoding=UTF8&psc=1&refRID=M2VCJA9K4JCH85MSR9NF\n",
      "HP Pavilion x360 Core i3 10th Gen 14-inch HD Touchscreen 2-in-1 Alexa Enabled Laptop (4GB/256GB SSD/Windows 10/MS Office/Inking Pen/Natural Silver/1.59 kg), 14-dh1006TU\n",
      "₹ 49,729.00\n",
      "https://www.amazon.in/3490-14-inch-i3-10110U-Integrated-Graphics/dp/B0842YYXRG/ref=zg_bs_1375424031_9/261-8413091-4364038?_encoding=UTF8&psc=1&refRID=M2VCJA9K4JCH85MSR9NF\n",
      "DELL Vostro 3490 14-inch Thin & Light Laptop (10th Gen Core i3-10110U/4GB/1TB HDD/Window 10/Integrated Graphics), Black\n",
      "₹ 31,990.00\n",
      "https://www.amazon.in/Lenovo-ThinkPad-14-inch-Windows-20RAS0SF00/dp/B086R4CJJ4/ref=zg_bs_1375424031_49/261-8413091-4364038?_encoding=UTF8&psc=1&refRID=M2VCJA9K4JCH85MSR9NF\n",
      "Lenovo ThinkPad E14 Intel Core i3 10th Gen 14-inch Full HD Thin and Light Laptop (4GB RAM/ 256GB SSD/ Windows 10 Home/ Black/ 1.77 kg), 20RAS0SF00\n",
      "₹ 38,990.00\n"
     ]
    }
   ],
   "source": [
    "\n",
    "for link in page_links_new:\n",
    "    title, price = (None, None)\n",
    "    try:\n",
    "        title, price = scrape_product_title_and_price(link)\n",
    "    except:\n",
    "        pass\n",
    "    if title != None and price != None:\n",
    "        print(link)\n",
    "        print(title)\n",
    "        print(price)\n",
    "        "
   ]
  },
  {
   "cell_type": "code",
   "execution_count": null,
   "metadata": {},
   "outputs": [],
   "source": [
    "# <base-url>/<slug>/dp/<product_id>/"
   ]
  }
 ],
 "metadata": {
  "kernelspec": {
   "display_name": "Python 3",
   "language": "python",
   "name": "python3"
  },
  "language_info": {
   "codemirror_mode": {
    "name": "ipython",
    "version": 3
   },
   "file_extension": ".py",
   "mimetype": "text/x-python",
   "name": "python",
   "nbconvert_exporter": "python",
   "pygments_lexer": "ipython3",
   "version": "3.8.0"
  }
 },
 "nbformat": 4,
 "nbformat_minor": 4
}
