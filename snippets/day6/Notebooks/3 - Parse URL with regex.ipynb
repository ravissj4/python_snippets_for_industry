{
 "cells": [
  {
   "cell_type": "code",
   "execution_count": 1,
   "metadata": {},
   "outputs": [],
   "source": [
    "import re\n",
    "import time\n",
    "import requests\n",
    "\n",
    "from requests_html import HTML\n",
    "from selenium import webdriver\n",
    "from selenium.webdriver.chrome.options import Options"
   ]
  },
  {
   "cell_type": "code",
   "execution_count": 2,
   "metadata": {},
   "outputs": [],
   "source": [
    "options = Options()\n",
    "options.add_argument('--headless')\n",
    "\n",
    "driver = webdriver.Chrome(options=options)\n"
   ]
  },
  {
   "cell_type": "code",
   "execution_count": 3,
   "metadata": {},
   "outputs": [],
   "source": [
    "# categories_urls = [\n",
    "#     'https://www.amazon.in/gp/bestsellers/computers/1375424031/ref=zg_bs_nav_pc_1_pc',\n",
    "#     'https://www.amazon.in/gp/bestsellers/electronics/1389396031/ref=zg_bs_nav_e_2_1389375031',\n",
    "#     'https://www.amazon.in/gp/bestsellers/watches/ref=zg_bs_nav_0',\n",
    "# ]"
   ]
  },
  {
   "cell_type": "code",
   "execution_count": 4,
   "metadata": {},
   "outputs": [],
   "source": [
    "categories_urls = [\n",
    "    'https://www.amazon.in/gp/bestsellers/computers/1375424031',\n",
    "    'https://www.amazon.in/gp/bestsellers/electronics/1389396031',\n",
    "    'https://www.amazon.in/gp/bestsellers/watches',\n",
    "]"
   ]
  },
  {
   "cell_type": "code",
   "execution_count": 5,
   "metadata": {},
   "outputs": [],
   "source": [
    "prod_title_lookup = '#productTitle'\n",
    "prod_price_lookup = '#priceblock_ourprice'\n"
   ]
  },
  {
   "cell_type": "code",
   "execution_count": 6,
   "metadata": {},
   "outputs": [],
   "source": [
    "driver.get(categories_urls[0])\n",
    "body_el = driver.find_element_by_css_selector('body')\n",
    "html_str = body_el.get_attribute('innerHTML')"
   ]
  },
  {
   "cell_type": "code",
   "execution_count": 7,
   "metadata": {},
   "outputs": [],
   "source": [
    "# print(html_str)"
   ]
  },
  {
   "cell_type": "code",
   "execution_count": 8,
   "metadata": {},
   "outputs": [],
   "source": [
    "html_obj = HTML(html=html_str)"
   ]
  },
  {
   "cell_type": "code",
   "execution_count": 9,
   "metadata": {},
   "outputs": [],
   "source": [
    "# html_obj.links"
   ]
  },
  {
   "cell_type": "code",
   "execution_count": 10,
   "metadata": {},
   "outputs": [],
   "source": [
    "page_links = [f'https://www.amazon.in{x}' for x in html_obj.links if x.startswith('/')]"
   ]
  },
  {
   "cell_type": "code",
   "execution_count": 11,
   "metadata": {},
   "outputs": [],
   "source": [
    "# page_links_new = [x for x in page_links if 'product-reviews/' not in x]\n"
   ]
  },
  {
   "cell_type": "code",
   "execution_count": 12,
   "metadata": {},
   "outputs": [
    {
     "data": {
      "text/plain": [
       "166"
      ]
     },
     "execution_count": 12,
     "metadata": {},
     "output_type": "execute_result"
    }
   ],
   "source": [
    "len(page_links)"
   ]
  },
  {
   "cell_type": "code",
   "execution_count": 13,
   "metadata": {},
   "outputs": [],
   "source": [
    "# first_prod_link = page_links[0]\n",
    "# first_prod_link"
   ]
  },
  {
   "cell_type": "code",
   "execution_count": 14,
   "metadata": {},
   "outputs": [],
   "source": [
    "# # now need to iterate over all links and see if we get the product title and price\n",
    "# product_title, product_price = (None, None)\n",
    "# for link in page_links:\n",
    "#     time.sleep(1.2)\n",
    "#     driver.get(link)\n",
    "#     body_el = driver.find_element_by_css_selector('body')\n",
    "#     html_str = body_el.get_attribute('innerHTML')\n",
    "#     html_obj = HTML(html=html_str)\n",
    "#     try:\n",
    "#         product_title = html_obj.find(selector=prod_title_lookup, first=True).text\n",
    "#         product_price = html_obj.find(selector=prod_price_lookup, first=True).text\n",
    "#     except:\n",
    "#         pass\n",
    "#     print(product_title, product_price)"
   ]
  },
  {
   "cell_type": "code",
   "execution_count": 15,
   "metadata": {},
   "outputs": [],
   "source": [
    "# now need to iterate over all links and see if we get the product title and price\n",
    "def scrape_product_title_and_price(url, prod_title_lookup='#productTitle', prod_price_lookup='#priceblock_ourprice'):\n",
    "    \n",
    "    driver.get(url)\n",
    "    time.sleep(1.2)\n",
    "    body = driver.find_element_by_css_selector('body')\n",
    "    html_string = body.get_attribute('innerHTML')\n",
    "    html_object = HTML(html=html_string)\n",
    "    product_title = html_object.find(selector=prod_title_lookup, first=True).text\n",
    "    product_price = html_object.find(selector=prod_price_lookup, first=True).text\n",
    "    return (product_title, product_price)"
   ]
  },
  {
   "cell_type": "code",
   "execution_count": 16,
   "metadata": {},
   "outputs": [],
   "source": [
    "\n",
    "# for link in page_links_new:\n",
    "#     title, price = (None, None)\n",
    "#     try:\n",
    "#         title, price = scrape_product_title_and_price(link)\n",
    "#     except:\n",
    "#         pass\n",
    "#     if title != None and price != None:\n",
    "#         print(link)\n",
    "#         print(title)\n",
    "#         print(price)\n",
    "        "
   ]
  },
  {
   "cell_type": "code",
   "execution_count": 17,
   "metadata": {},
   "outputs": [],
   "source": [
    "# https://www.amazon.in/HP-Pavilion-14-inch-Touchscreen-14-dh1006TU/dp/B07WFPSWVN/ref=zg_bs_1375424031_29/261-8413091-4364038?_encoding=UTF8&psc=1&refRID=M2VCJA9K4JCH85MSR9NF\n",
    "\n",
    "# https://www.amazon.in/HP-Pavilion-14-inch-Touchscreen-14-dh1006TU/dp/B07WFPSWVN\n",
    "\n",
    "# <base-url>/<slug>/dp/<product_id>/"
   ]
  },
  {
   "cell_type": "code",
   "execution_count": 18,
   "metadata": {},
   "outputs": [],
   "source": [
    "# this is the way to name a regular exp ?P<slug> names the reg. exp [\\w-]+ as slug\n",
    "# w covers a-z, A-Z and 0-9, plus we add - also, so any alphanumeric string with dashes \n",
    "# is allowed. 0 or more instances !\n",
    "my_url = 'https://www.amazon.in/HP-Pavilion-14-inch-Touchscreen-14-dh1006TU/dp/B07WFPSWVN/'\n",
    "my_regex_pattern = r\"https://www.amazon.in/(?P<slug>[\\w-]+)/dp/(?P<product_id>[\\w-]+)/\"\n"
   ]
  },
  {
   "cell_type": "code",
   "execution_count": 19,
   "metadata": {},
   "outputs": [],
   "source": [
    "regex = re.compile(my_regex_pattern)"
   ]
  },
  {
   "cell_type": "code",
   "execution_count": 20,
   "metadata": {},
   "outputs": [
    {
     "name": "stdout",
     "output_type": "stream",
     "text": [
      "<re.Match object; span=(0, 80), match='https://www.amazon.in/HP-Pavilion-14-inch-Touchsc>\n",
      "HP-Pavilion-14-inch-Touchscreen-14-dh1006TU B07WFPSWVN\n"
     ]
    }
   ],
   "source": [
    "my_match = regex.match(my_url)\n",
    "print(my_match)\n",
    "print(my_match['slug'], my_match['product_id'])\n"
   ]
  },
  {
   "cell_type": "code",
   "execution_count": 21,
   "metadata": {},
   "outputs": [],
   "source": [
    "# on further inspection : \n",
    "\n",
    "regex_options = [\n",
    "    r\"https://www.amazon.in/gp/product/(?P<product_id>[\\w-]+)/\",\n",
    "    r\"https://www.amazon.in/dp/(?P<product_id>[\\w-]+)/\",\n",
    "    r\"https://www.amazon.in/(?P<slug>[\\w-]+)/dp/(?P<product_id>[\\w-]+)/\",\n",
    "]"
   ]
  },
  {
   "cell_type": "code",
   "execution_count": 22,
   "metadata": {},
   "outputs": [],
   "source": [
    "def extract_productid_from_url(url):\n",
    "    product_id = None\n",
    "    for regex_pattern in regex_options:\n",
    "        regex = re.compile(regex_pattern)\n",
    "        match = regex.match(url)\n",
    "        if match != None:\n",
    "            try:\n",
    "                product_id = match['product_id']\n",
    "            except:\n",
    "                pass\n",
    "    return product_id\n"
   ]
  },
  {
   "cell_type": "code",
   "execution_count": 23,
   "metadata": {},
   "outputs": [],
   "source": [
    "def clean_page_links(page_links=[]):\n",
    "    final_page_links = []\n",
    "    for link in page_links:\n",
    "        product_id = extract_productid_from_url(link)\n",
    "        if product_id != None:\n",
    "            final_page_links.append({\"url\" : link, \"product_id\" : product_id})\n",
    "    return final_page_links\n",
    "\n",
    "\n",
    "            "
   ]
  },
  {
   "cell_type": "code",
   "execution_count": 27,
   "metadata": {},
   "outputs": [],
   "source": [
    "cleaned_objects = clean_page_links(page_links)\n"
   ]
  },
  {
   "cell_type": "code",
   "execution_count": 28,
   "metadata": {},
   "outputs": [
    {
     "data": {
      "text/plain": [
       "166"
      ]
     },
     "execution_count": 28,
     "metadata": {},
     "output_type": "execute_result"
    }
   ],
   "source": [
    "len(page_links)"
   ]
  },
  {
   "cell_type": "code",
   "execution_count": 30,
   "metadata": {},
   "outputs": [
    {
     "data": {
      "text/plain": [
       "50"
      ]
     },
     "execution_count": 30,
     "metadata": {},
     "output_type": "execute_result"
    }
   ],
   "source": [
    "len(cleaned_objects)"
   ]
  },
  {
   "cell_type": "code",
   "execution_count": null,
   "metadata": {},
   "outputs": [],
   "source": [
    "extracted_data = []\n",
    "def perform_scrape(cleaned_objects=[]):\n",
    "    for item in cleaned_objects:\n",
    "        url = item['url']\n",
    "        product_id = item['product_id']\n",
    "        title, price = (None, None)\n",
    "        try:\n",
    "            title, price = scrape_product_title_and_price(url)\n",
    "        except:\n",
    "            pass\n",
    "        \n",
    "        if title != None and price != None:\n",
    "            print(url, title, price)\n",
    "        # if title and price came out to be none, we can see that if we put product_data\n",
    "        \n",
    "        product_data = {\n",
    "            'url' : url,\n",
    "            'product_id' : product_id,\n",
    "            'title' : title,\n",
    "            'price' : price\n",
    "        }\n",
    "            \n",
    "        \n",
    "        \n",
    "        "
   ]
  }
 ],
 "metadata": {
  "kernelspec": {
   "display_name": "Python 3",
   "language": "python",
   "name": "python3"
  },
  "language_info": {
   "codemirror_mode": {
    "name": "ipython",
    "version": 3
   },
   "file_extension": ".py",
   "mimetype": "text/x-python",
   "name": "python",
   "nbconvert_exporter": "python",
   "pygments_lexer": "ipython3",
   "version": "3.8.0"
  }
 },
 "nbformat": 4,
 "nbformat_minor": 4
}
