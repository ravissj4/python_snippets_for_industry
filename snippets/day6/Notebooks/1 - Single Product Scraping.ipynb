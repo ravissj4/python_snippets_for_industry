{
 "cells": [
  {
   "cell_type": "code",
   "execution_count": 14,
   "metadata": {},
   "outputs": [],
   "source": [
    "import requests\n",
    "from requests_html import HTML\n",
    "from selenium import webdriver\n",
    "from selenium.webdriver.chrome.options import Options"
   ]
  },
  {
   "cell_type": "code",
   "execution_count": 15,
   "metadata": {},
   "outputs": [],
   "source": [
    "options = Options()\n",
    "options.add_argument('--headless')\n",
    "\n",
    "driver = webdriver.Chrome(options=options)\n"
   ]
  },
  {
   "cell_type": "code",
   "execution_count": 2,
   "metadata": {},
   "outputs": [],
   "source": [
    "url = 'https://www.amazon.in/Apple-Quad-core-10th-Generation-Intel-Core-i5-Processor/dp/B0864HVD7L/ref=sr_1_1_sspa?dchild=1&keywords=macbook+air&qid=1591717106&sr=8-1-spons&psc=1&spLa=ZW5jcnlwdGVkUXVhbGlmaWVyPUEzRjNVSDA4MDFPUzIxJmVuY3J5cHRlZElkPUEwNzAzNzU0MkxLNDFIQVlXSjFWTCZlbmNyeXB0ZWRBZElkPUEwNjkwNDQ2MkJIMTBVUk5JOFRKRCZ3aWRnZXROYW1lPXNwX2F0ZiZhY3Rpb249Y2xpY2tSZWRpcmVjdCZkb05vdExvZ0NsaWNrPXRydWU='\n",
    "prod_title_lookup = '#productTitle'\n",
    "product_price_lookup = '#priceblock_ourprice'"
   ]
  },
  {
   "cell_type": "code",
   "execution_count": 16,
   "metadata": {},
   "outputs": [],
   "source": [
    "# requests not working, hence shifting to selenium\n",
    "# r = requests.get(url)\n",
    "# html_str = r.text\n",
    "\n",
    "driver.get(url)\n",
    "body_el = driver.find_element_by_css_selector('body')\n",
    "html_str = body_el.get_attribute('innerHTML')\n"
   ]
  },
  {
   "cell_type": "code",
   "execution_count": 18,
   "metadata": {},
   "outputs": [],
   "source": [
    "# and yes, this time its working and the warning goes away\n",
    "# amazon thinks that a proper chrome session is run by a human\n",
    "# power of selenium !!\n",
    "#print(html_str)"
   ]
  },
  {
   "cell_type": "code",
   "execution_count": 19,
   "metadata": {},
   "outputs": [],
   "source": [
    "html_obj = HTML(html=html_str)"
   ]
  },
  {
   "cell_type": "code",
   "execution_count": 22,
   "metadata": {},
   "outputs": [],
   "source": [
    "prod_title = html_obj.find(selector=prod_title_lookup, first=True).text"
   ]
  },
  {
   "cell_type": "code",
   "execution_count": 22,
   "metadata": {},
   "outputs": [],
   "source": [
    "prod_title = html_obj.find(selector=prod_title_lookup, first=True).text"
   ]
  },
  {
   "cell_type": "code",
   "execution_count": 23,
   "metadata": {},
   "outputs": [
    {
     "name": "stdout",
     "output_type": "stream",
     "text": [
      "New Apple MacBook Air (13-inch, 1.1GHz Quad-core 10th-Generation Intel Core i5 Processor, 8GB RAM, 512GB Storage) - Space Grey\n"
     ]
    }
   ],
   "source": [
    "print(prod_title)"
   ]
  },
  {
   "cell_type": "code",
   "execution_count": 26,
   "metadata": {},
   "outputs": [],
   "source": [
    "prod_price = html_obj.find(selector=product_price_lookup, first=True).text"
   ]
  },
  {
   "cell_type": "code",
   "execution_count": 27,
   "metadata": {},
   "outputs": [
    {
     "name": "stdout",
     "output_type": "stream",
     "text": [
      "₹ 1,22,990.00\n"
     ]
    }
   ],
   "source": [
    "print(prod_price)"
   ]
  },
  {
   "cell_type": "code",
   "execution_count": 12,
   "metadata": {},
   "outputs": [],
   "source": [
    "# again requests_html is also not working, amazon is not allowing\n",
    "#html_obj.full_text"
   ]
  },
  {
   "cell_type": "code",
   "execution_count": 13,
   "metadata": {},
   "outputs": [],
   "source": [
    "# Amazon not allowing access using requests\n",
    "# print(html_str)"
   ]
  },
  {
   "cell_type": "code",
   "execution_count": null,
   "metadata": {},
   "outputs": [],
   "source": []
  }
 ],
 "metadata": {
  "kernelspec": {
   "display_name": "Python 3",
   "language": "python",
   "name": "python3"
  },
  "language_info": {
   "codemirror_mode": {
    "name": "ipython",
    "version": 3
   },
   "file_extension": ".py",
   "mimetype": "text/x-python",
   "name": "python",
   "nbconvert_exporter": "python",
   "pygments_lexer": "ipython3",
   "version": "3.8.0"
  }
 },
 "nbformat": 4,
 "nbformat_minor": 4
}
