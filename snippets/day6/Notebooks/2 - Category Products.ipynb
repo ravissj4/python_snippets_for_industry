{
 "cells": [
  {
   "cell_type": "code",
   "execution_count": 1,
   "metadata": {},
   "outputs": [],
   "source": [
    "import re\n",
    "import time\n",
    "import requests\n",
    "\n",
    "from requests_html import HTML\n",
    "from selenium import webdriver\n",
    "from selenium.webdriver.chrome.options import Options"
   ]
  },
  {
   "cell_type": "code",
   "execution_count": 2,
   "metadata": {},
   "outputs": [],
   "source": [
    "options = Options()\n",
    "options.add_argument('--headless')\n",
    "\n",
    "driver = webdriver.Chrome(options=options)\n"
   ]
  },
  {
   "cell_type": "code",
   "execution_count": 3,
   "metadata": {},
   "outputs": [],
   "source": [
    "# categories_urls = [\n",
    "#     'https://www.amazon.in/gp/bestsellers/computers/1375424031/ref=zg_bs_nav_pc_1_pc',\n",
    "#     'https://www.amazon.in/gp/bestsellers/electronics/1389396031/ref=zg_bs_nav_e_2_1389375031',\n",
    "#     'https://www.amazon.in/gp/bestsellers/watches/ref=zg_bs_nav_0',\n",
    "# ]"
   ]
  },
  {
   "cell_type": "code",
   "execution_count": 4,
   "metadata": {},
   "outputs": [],
   "source": [
    "categories_urls = [\n",
    "    'https://www.amazon.in/gp/bestsellers/computers/1375424031',\n",
    "    'https://www.amazon.in/gp/bestsellers/electronics/1389396031',\n",
    "    'https://www.amazon.in/gp/bestsellers/watches',\n",
    "]"
   ]
  },
  {
   "cell_type": "code",
   "execution_count": 5,
   "metadata": {},
   "outputs": [],
   "source": [
    "prod_title_lookup = '#productTitle'\n",
    "prod_price_lookup = '#priceblock_ourprice'\n"
   ]
  },
  {
   "cell_type": "code",
   "execution_count": 6,
   "metadata": {},
   "outputs": [],
   "source": [
    "driver.get(categories_urls[0])\n",
    "body_el = driver.find_element_by_css_selector('body')\n",
    "html_str = body_el.get_attribute('innerHTML')"
   ]
  },
  {
   "cell_type": "code",
   "execution_count": 7,
   "metadata": {},
   "outputs": [],
   "source": [
    "# print(html_str)"
   ]
  },
  {
   "cell_type": "code",
   "execution_count": 8,
   "metadata": {},
   "outputs": [],
   "source": [
    "html_obj = HTML(html=html_str)"
   ]
  },
  {
   "cell_type": "code",
   "execution_count": 9,
   "metadata": {},
   "outputs": [],
   "source": [
    "# html_obj.links"
   ]
  },
  {
   "cell_type": "code",
   "execution_count": 10,
   "metadata": {},
   "outputs": [],
   "source": [
    "new_links = [x for x in html_obj.links if x.startswith('/')]"
   ]
  },
  {
   "cell_type": "code",
   "execution_count": 11,
   "metadata": {},
   "outputs": [],
   "source": [
    "page_links = [f'https://www.amazon.in{x}' for x in new_links]"
   ]
  },
  {
   "cell_type": "code",
   "execution_count": 12,
   "metadata": {},
   "outputs": [],
   "source": [
    "page_links_new = [x for x in page_links if 'product-reviews/' not in x]\n"
   ]
  },
  {
   "cell_type": "code",
   "execution_count": 13,
   "metadata": {},
   "outputs": [
    {
     "data": {
      "text/plain": [
       "166"
      ]
     },
     "execution_count": 13,
     "metadata": {},
     "output_type": "execute_result"
    }
   ],
   "source": [
    "len(page_links)"
   ]
  },
  {
   "cell_type": "code",
   "execution_count": 14,
   "metadata": {},
   "outputs": [
    {
     "data": {
      "text/plain": [
       "118"
      ]
     },
     "execution_count": 14,
     "metadata": {},
     "output_type": "execute_result"
    }
   ],
   "source": [
    "len(page_links_new)"
   ]
  },
  {
   "cell_type": "code",
   "execution_count": 15,
   "metadata": {},
   "outputs": [
    {
     "data": {
      "text/plain": [
       "'https://www.amazon.in/HP-Pavilion-14-inch-Touchscreen-14-dh1006TU/dp/B07WFPSWVN/ref=zg_bs_1375424031_29/261-8413091-4364038?_encoding=UTF8&psc=1&refRID=M2VCJA9K4JCH85MSR9NF'"
      ]
     },
     "execution_count": 15,
     "metadata": {},
     "output_type": "execute_result"
    }
   ],
   "source": [
    "first_prod_link = page_links_new[0]\n",
    "first_prod_link"
   ]
  },
  {
   "cell_type": "code",
   "execution_count": 16,
   "metadata": {},
   "outputs": [],
   "source": [
    "# # now need to iterate over all links and see if we get the product title and price\n",
    "# product_title, product_price = (None, None)\n",
    "# for link in page_links:\n",
    "#     time.sleep(1.2)\n",
    "#     driver.get(link)\n",
    "#     body_el = driver.find_element_by_css_selector('body')\n",
    "#     html_str = body_el.get_attribute('innerHTML')\n",
    "#     html_obj = HTML(html=html_str)\n",
    "#     try:\n",
    "#         product_title = html_obj.find(selector=prod_title_lookup, first=True).text\n",
    "#         product_price = html_obj.find(selector=prod_price_lookup, first=True).text\n",
    "#     except:\n",
    "#         pass\n",
    "#     print(product_title, product_price)"
   ]
  },
  {
   "cell_type": "code",
   "execution_count": 17,
   "metadata": {},
   "outputs": [],
   "source": [
    "# now need to iterate over all links and see if we get the product title and price\n",
    "def scrape_product_title_and_price(url, prod_title_lookup='#productTitle', prod_price_lookup='#priceblock_ourprice'):\n",
    "    \n",
    "    driver.get(url)\n",
    "    time.sleep(1.2)\n",
    "    body = driver.find_element_by_css_selector('body')\n",
    "    html_string = body.get_attribute('innerHTML')\n",
    "    html_object = HTML(html=html_string)\n",
    "    product_title = html_object.find(selector=prod_title_lookup, first=True).text\n",
    "    product_price = html_object.find(selector=prod_price_lookup, first=True).text\n",
    "    return (product_title, product_price)"
   ]
  },
  {
   "cell_type": "code",
   "execution_count": 18,
   "metadata": {},
   "outputs": [
    {
     "name": "stdout",
     "output_type": "stream",
     "text": [
      "https://www.amazon.in/HP-Pavilion-14-inch-Touchscreen-14-dh1006TU/dp/B07WFPSWVN/ref=zg_bs_1375424031_29/261-8413091-4364038?_encoding=UTF8&psc=1&refRID=M2VCJA9K4JCH85MSR9NF\n",
      "HP Pavilion x360 Core i3 10th Gen 14-inch HD Touchscreen 2-in-1 Alexa Enabled Laptop (4GB/256GB SSD/Windows 10/MS Office/Inking Pen/Natural Silver/1.59 kg), 14-dh1006TU\n",
      "₹ 49,729.00\n",
      "https://www.amazon.in/3490-14-inch-i3-10110U-Integrated-Graphics/dp/B0842YYXRG/ref=zg_bs_1375424031_9/261-8413091-4364038?_encoding=UTF8&psc=1&refRID=M2VCJA9K4JCH85MSR9NF\n",
      "DELL Vostro 3490 14-inch Thin & Light Laptop (10th Gen Core i3-10110U/4GB/1TB HDD/Window 10/Integrated Graphics), Black\n",
      "₹ 31,990.00\n",
      "https://www.amazon.in/Lenovo-ThinkPad-14-inch-Windows-20RAS0SF00/dp/B086R4CJJ4/ref=zg_bs_1375424031_49/261-8413091-4364038?_encoding=UTF8&psc=1&refRID=M2VCJA9K4JCH85MSR9NF\n",
      "Lenovo ThinkPad E14 Intel Core i3 10th Gen 14-inch Full HD Thin and Light Laptop (4GB RAM/ 256GB SSD/ Windows 10 Home/ Black/ 1.77 kg), 20RAS0SF00\n",
      "₹ 38,990.00\n",
      "https://www.amazon.in/HP-Laptop-3-3200U-Microsoft-15s-eq0063AU/dp/B083SSQXJZ/ref=zg_bs_1375424031_30/261-8413091-4364038?_encoding=UTF8&psc=1&refRID=M2VCJA9K4JCH85MSR9NF\n",
      "HP 15s Laptop (Ryzen 3-3200U/4GB/512GB SSD/Win 10/Microsoft Office 2019/ 1.77 kg) 15s-eq0063AU\n",
      "₹ 32,990.00\n",
      "https://www.amazon.in/Lenovo-Ideapad-Generation-Windows-81VD0086IN/dp/B08695PVY8/ref=zg_bs_1375424031_6/261-8413091-4364038?_encoding=UTF8&psc=1&refRID=M2VCJA9K4JCH85MSR9NF\n",
      "Lenovo Ideapad S145 8th Generation Intel Core i3 15.6 inch FHD Thin and Light Laptop (8GB/1TB/Windows 10/Grey/1.85Kg), 81VD0086IN\n",
      "₹ 32,990.00\n",
      "https://www.amazon.in/Acer-A315-22-15-6-inch-A4-9120e-Graphics/dp/B07X62JFMK/ref=zg_bs_1375424031_11/261-8413091-4364038?_encoding=UTF8&psc=1&refRID=M2VCJA9K4JCH85MSR9NF\n",
      "Acer Aspire 3 Thin AMD A4 15.6-inch Laptop (4GB/1TB HDD/Windows 10/Charcoal Black/1.9kg), A315-22\n",
      "₹ 20,822.00\n",
      "https://www.amazon.in/VivoBook-M509DA-EJ561T-15-6-inch-Integrated-Transparent/dp/B07WSGCC44/ref=zg_bs_1375424031_40/261-8413091-4364038?_encoding=UTF8&psc=1&refRID=M2VCJA9K4JCH85MSR9NF\n",
      "ASUS VivoBook 15 M509DA-EJ561T AMD Quad Core Ryzen 5-3500U 15.6-inch FHD Compact and Light Laptop (4GB RAM/256GB NVMe SSD/Windows 10/Integrated Graphics/FP Reader/1.9 kg), Transparent Silver\n",
      "₹ 34,985.00\n",
      "https://www.amazon.in/Lenovo-Ideapad-15-6-%E0%A4%87%E0%A4%82%E0%A4%9A-%E0%A4%B2%E0%A5%88%E0%A4%AA%E0%A4%9F%E0%A5%89%E0%A4%AA-%E0%A4%B8%E0%A5%8D%E0%A4%B2%E0%A5%87%E0%A4%9F%E0%A5%80/dp/B083PFCFRB/ref=zg_bs_1375424031_41/261-8413091-4364038?_encoding=UTF8&psc=1&refRID=M2VCJA9K4JCH85MSR9NF\n",
      "Lenovo IdeaPad S145 81W800C3IN 15.6-inch FHD  Thin and Light Laptop (10th Gen CORE I3-1005G1/4GB/256GB SSD/Windows 10/Microsoft Office/Integrated Graphics), Grey\n",
      "₹ 35,490.00\n",
      "https://www.amazon.in/Acer-A515-43-15-6-inch-qual-core-processor/dp/B085YNCJLZ/ref=zg_bs_1375424031_8/261-8413091-4364038?_encoding=UTF8&psc=1&refRID=M2VCJA9K4JCH85MSR9NF\n",
      "Acer Aspire 5 Slim A515-43 15.6-inch Laptop (AMD Ryzen 5 3500U qual-core processor/8GB/512GB SSD/Window 10, Home 64-Bit/MSO/AMD Radeon Vega 8 Mobile Graphics), Silver\n",
      "₹ 36,990.00\n",
      "https://www.amazon.in/Lenovo-Ideapad-Laptop-Windows-81UT0079IN/dp/B082D5KPJ4/ref=zg_bs_1375424031_46/261-8413091-4364038?_encoding=UTF8&psc=1&refRID=M2VCJA9K4JCH85MSR9NF\n",
      "Lenovo Ideapad S145 AMD Ryzen 5 3500U 15.6 inch FHD Thin and Light Laptop (8GB/1TB/Windows 10/Black/1.85Kg), 81UT0079IN\n",
      "₹ 37,990.00\n",
      "https://www.amazon.in/Apple-MacBook-Pro-8th-Generation-Intel-Core-i5/dp/B0883JQQJQ/ref=zg_bs_1375424031_39/261-8413091-4364038?_encoding=UTF8&psc=1&refRID=M2VCJA9K4JCH85MSR9NF\n",
      "New Apple MacBook Pro (13-inch, 8GB RAM, 256GB SSD, 1.4GHz Quad-core 8th-Generation Intel Core i5 Processor, Magic Keyboard) - Space Grey\n",
      "₹ 1,22,990.00\n",
      "https://www.amazon.in/Lenovo-Ideapad-Generation-Windows-81VD0082IN/dp/B08667RQSK/ref=zg_bs_1375424031_1/261-8413091-4364038?_encoding=UTF8&psc=1&refRID=M2VCJA9K4JCH85MSR9NF\n",
      "Lenovo Ideapad S145 8th Generation Intel Core i3 15.6 inch FHD Thin and Light Laptop (4GB/1TB/Windows 10/Grey/1.85Kg), 81VD0082IN\n",
      "₹ 29,990.00\n",
      "https://www.amazon.in/Lenovo-Ideapad-15-6-inch-Windows-81UT001CIN/dp/B07X45PMXF/ref=zg_bs_1375424031_7/261-8413091-4364038?_encoding=UTF8&psc=1&refRID=M2VCJA9K4JCH85MSR9NF\n",
      "Lenovo Ideapad S145 AMD RYZEN 3 3200U 15.6-inch FHD Laptop (4GB/1TB/Windows 10/Office 2019/Grey/1.85Kg),81UT001CIN\n",
      "₹ 28,811.00\n",
      "https://www.amazon.in/Apple-MacBook-Air-13-3-inch-MQD32HN/dp/B073Q5R6VR/ref=zg_bs_1375424031_4/261-8413091-4364038?_encoding=UTF8&psc=1&refRID=M2VCJA9K4JCH85MSR9NF\n",
      "Apple MacBook Air (13-inch, 8GB RAM, 128GB Storage, 1.8GHz Intel Core i5) - Silver\n",
      "₹ 65,990.00\n",
      "https://www.amazon.in/Lenovo-Ideapad-Laptop-Windows-81VD008GIN/dp/B08697M4RM/ref=zg_bs_1375424031_21/261-8413091-4364038?_encoding=UTF8&psc=1&refRID=M2VCJA9K4JCH85MSR9NF\n",
      "Lenovo Ideapad S145 Intel Core i3 8th Gen 15.6 inch FHD Thin and Light Laptop (4GB/1TB/Windows 10/Office 2019/Grey/1.85Kg), 81VD008GIN\n",
      "₹ 32,990.00\n",
      "https://www.amazon.in/FX705DT-AU092T-Graphics-5-3550H-Windows-Stealth/dp/B07WLQS4F7/ref=zg_bs_1375424031_20/261-8413091-4364038?_encoding=UTF8&psc=1&refRID=M2VCJA9K4JCH85MSR9NF\n",
      "ASUS TUF Gaming FX705DT-AU092T 17.3\" FHD Laptop GTX 1650 4GB Graphics (Ryzen 5-3550H/8GB RAM/512GB NVMe SSD/Windows 10/2.70 kg), Stealth Black\n",
      "₹ 55,990.00\n",
      "https://www.amazon.in/HP-Pavilion-14-inch-Touchscreen-14-dh1010TU/dp/B07WGPSS2Z/ref=zg_bs_1375424031_50/261-8413091-4364038?_encoding=UTF8&psc=1&refRID=M2VCJA9K4JCH85MSR9NF\n",
      "HP Pavilion x360 Core i5 10th Gen 14-inch FHD Touchscreen 2-in-1 Alexa Enabled Laptop (8GB/256GB SSD/Windows 10/MS Office/Inking Pen/FPR/Natural Silver/1.59 kg), 14-dh1010TU\n",
      "₹ 69,990.00\n",
      "https://www.amazon.in/Lenovo-Ideapad-Laptop-Windows-81UT00EFIN/dp/B084VXQ15G/ref=zg_bs_1375424031_15/261-8413091-4364038?_encoding=UTF8&psc=1&refRID=M2VCJA9K4JCH85MSR9NF\n",
      "Lenovo Ideapad S145 AMD Ryzen 3 3200U 15.6 inch FHD Thin and Light Laptop (8GB/256GB SSD/Windows 10/Office 2019/Grey/1.85Kg), 81UT00EFIN\n",
      "₹ 32,990.00\n",
      "https://www.amazon.in/Lenovo-Ideapad-A6-9225-Windows-81N300J1IN/dp/B088RQ55SR/ref=zg_bs_1375424031_10/261-8413091-4364038?_encoding=UTF8&psc=1&refRID=M2VCJA9K4JCH85MSR9NF\n",
      "Lenovo Ideapad S145 AMD A6-9225 15.6 inch HD Thin and Light Laptop (4GB/256 GB SSD/Windows 10/Office 2019/Grey/1.85Kg), 81N300J1IN\n",
      "₹ 23,921.00\n",
      "https://www.amazon.in/HP-14-inch-Laptop-Windows-14q-cs0023TU/dp/B07X7JH41Q/ref=zg_bs_1375424031_34/261-8413091-4364038?_encoding=UTF8&psc=1&refRID=M2VCJA9K4JCH85MSR9NF\n",
      "HP 14 7th Gen Intel Core i3 Processor 14-inch Thin and Light Laptop (8GB/256GB SSD/Windows 10 Home/MS Office/Jet Black/1.43 kg), 14q-cs0023TU\n",
      "₹ 33,990.00\n",
      "https://www.amazon.in/HP-Pavilion-dh0045TX-i7-8565U-Graphics/dp/B07NMSWFS4/ref=zg_bs_1375424031_33/261-8413091-4364038?_encoding=UTF8&psc=1&refRID=M2VCJA9K4JCH85MSR9NF\n",
      "HP Pavilion x360 Core i7 8th Gen 14-inch Touchscreen 2-in-1 FHD Thin and Light Laptop (16GB/512GB SSD/Windows 10/MS Office/2GB Graphics/Mineral Silver/1.59 kg), 14- dh0045TX\n",
      "₹ 84,990.00\n",
      "https://www.amazon.in/Lenovo-Ideapad-Laptop-Windows-81WE007UIN/dp/B087D3HNLB/ref=zg_bs_1375424031_43/261-8413091-4364038?_encoding=UTF8&psc=1&refRID=M2VCJA9K4JCH85MSR9NF\n",
      "Lenovo Ideapad Slim 3i 10th Gen Intel Core i5 15.6 inch FHD Thin and Light Laptop (8GB/1TB/Windows 10/Grey/1.85Kg), 81WE007UIN\n",
      "₹ 43,990.00\n",
      "https://www.amazon.in/ASUS-VivoBook-X509FA-EJ342T-15-6-inch-Integrated/dp/B088ZWXW17/ref=zg_bs_1375424031_24/261-8413091-4364038?_encoding=UTF8&psc=1&refRID=M2VCJA9K4JCH85MSR9NF\n",
      "ASUS VivoBook 15 X509FA-EJ342T 15.6-inch Laptop (8th Gen Core i3-8145U/4GB/1TB HDD/Windows 10 Home (64bit)/Intel Integrated UHD 620 Graphics), Slate Grey\n",
      "₹ 31,080.00\n",
      "https://www.amazon.in/Lenovo-Legion-Graphics-Windows-81SY00CKIN/dp/B07W6H9YM9/ref=zg_bs_1375424031_38/261-8413091-4364038?_encoding=UTF8&psc=1&refRID=M2VCJA9K4JCH85MSR9NF\n",
      "Lenovo Legion Y540 9th Gen Intel Core i5 15.6 inch FHD Gaming Laptop (8GB/512GB SSD/NVIDIA GTX 1650 4GB Graphics/Windows 10/Black/2.3Kg),81SY00CKIN\n",
      "₹ 65,990.00\n",
      "https://www.amazon.in/Lenovo-81VW00CVIN-15-6-inch-I5-1035G4-Integrated/dp/B083PF57LQ/ref=zg_bs_1375424031_35/261-8413091-4364038?_encoding=UTF8&psc=1&refRID=M2VCJA9K4JCH85MSR9NF\n",
      "Lenovo IdeaPad S340 81VW00CVIN 15.6-inch FHD IPS Thin and Light Laptop (10th Gen CORE I5-1035G4/8GB/512GB SSD/Windows 10/Microsoft Office/Integrated Graphics), Platinum Grey\n",
      "₹ 60,000.00\n"
     ]
    },
    {
     "name": "stdout",
     "output_type": "stream",
     "text": [
      "https://www.amazon.in/Lenovo-81W800E9IN-15-6-inch-i5-1035G1-Integrated/dp/B084VXS5GW/ref=zg_bs_1375424031_16/261-8413091-4364038?_encoding=UTF8&psc=1&refRID=M2VCJA9K4JCH85MSR9NF\n",
      "Lenovo Ideapad S145 81W800E9IN 15.6-inch FHD Thin and Light Laptop (10th Gen i5-1035G1/8GB/512GB SSD/Windows 10/Microsoft Office 2019/Integrated Graphics), Grey\n",
      "₹ 48,988.00\n",
      "https://www.amazon.in/HP-fr1004TU-15-6-inch-i3-1005G1-Graphics/dp/B0897MSMQ3/ref=zg_bs_1375424031_42/261-8413091-4364038?_encoding=UTF8&psc=1&refRID=M2VCJA9K4JCH85MSR9NF\n",
      "HP 15s fr1004TU 15.6-inch Laptop (10th Gen Core i3-1005G1/4GB/512GB SSD/Windows 10 Home/Intel UHD Graphics), Natural Silver\n",
      "₹ 39,990.00\n",
      "https://www.amazon.in/HP-db1066AU-15-6-inch-Windows-Graphics/dp/B083C7XYW8/ref=zg_bs_1375424031_44/261-8413091-4364038?_encoding=UTF8&psc=1&refRID=M2VCJA9K4JCH85MSR9NF\n",
      "HP 15 db1066AU 15.6-inch Laptop (Athlon 300U /4GB/1TB HDD/Windows 10, Home/AMD Radeon Vega 3 Graphics), Jet Black\n",
      "₹ 24,998.00\n",
      "https://www.amazon.in/Lenovo-81UT00EGIN-15-6-inch-Microsoft-Integrated/dp/B084VXWS36/ref=zg_bs_1375424031_45/261-8413091-4364038?_encoding=UTF8&psc=1&refRID=M2VCJA9K4JCH85MSR9NF\n",
      "Lenovo Ideapad S145 81UT00EGIN 15.6-inch FHD Thin and Light Laptop (Ryzen 5 3500U/8GB/512GB SSD/Windows 10/Microsoft Office 2019/Integrated Graphics), Grey\n",
      "₹ 41,404.00\n",
      "https://www.amazon.in/HP-14-inch-A4-9125-Graphics-14-cm0123au/dp/B07XBTW42F/ref=zg_bs_1375424031_2/261-8413091-4364038?_encoding=UTF8&psc=1&refRID=M2VCJA9K4JCH85MSR9NF\n",
      "HP 14-inch Laptop (9th Gen A4-9125/4GB/1TB HDD/Win 10/MS Office 2019/AMD Radeon R3 Graphics), 14-cm0123au\n",
      "₹ 22,160.00\n",
      "https://www.amazon.in/Acer-AN515-54-15-6-inch-processor-Dedicated/dp/B0894NY25W/ref=zg_bs_1375424031_23/261-8413091-4364038?_encoding=UTF8&psc=1&refRID=M2VCJA9K4JCH85MSR9NF\n",
      "Acer Nitro 5 AN515-54 15.6-inch Laptop (9th Gen Intel Core i5-9300H processor/8GB/1TB+256GB SSD/Windows 10 Home 64-bit/NVIDIA GeForce GTX 1650 with 4 GB of Dedicated GDDR5 VRAM Graphics), Black\n",
      "₹ 59,990.00\n",
      "https://www.amazon.in/Dell-Inspiron-3583-15-6-inch-i5-8265U/dp/B084CHF826/ref=zg_bs_1375424031_5/261-8413091-4364038?_encoding=UTF8&psc=1&refRID=M2VCJA9K4JCH85MSR9NF\n",
      "Dell Inspiron 3583 15.6-inch FHD Laptop (8th Gen Core i5-8265U/8GB/1TB/Window 10 + MS Office/2 GB AMD Graphics/Silver)\n",
      "₹ 46,990.00\n",
      "https://www.amazon.in/ASUS-VivoBook-X409UA-EK362TS-MS-Office-Integrated/dp/B082P9PLK8/ref=zg_bs_1375424031_26/261-8413091-4364038?_encoding=UTF8&psc=1&refRID=M2VCJA9K4JCH85MSR9NF\n",
      "ASUS VivoBook 14 X409UA-EK362TS Intel Core i3 7th Gen 14-inch FHD Compact and Light Laptop (4GB RAM/256GB NVMe SSD/Windows 10/MS-Office 2019/Integrated Graphics/FP Reader/1.60 kg), Slate Grey\n",
      "₹ 31,990.00\n",
      "https://www.amazon.in/AVITA-NS14A1IN502P-14-inch-i5-7Y54-Graphics/dp/B0839HWNCY/ref=zg_bs_1375424031_27/261-8413091-4364038?_encoding=UTF8&psc=1&refRID=M2VCJA9K4JCH85MSR9NF\n",
      "AVITA Cosmos NS14A1IN502P 14-inch Laptop (7th Gen Core i5-7Y54/8GB/256GB SSD/Windows 10/Intel HD 615 Graphics), Cloud Silver\n",
      "₹ 33,990.00\n",
      "https://www.amazon.in/FX505DY-BQ002T-15-6-inch-5-3550H-Windows-Graphics/dp/B07MSK34LL/ref=zg_bs_1375424031_25/261-8413091-4364038?_encoding=UTF8&psc=1&refRID=M2VCJA9K4JCH85MSR9NF\n",
      "ASUS TUF Gaming FX505DY-BQ002T 15.6-inch FHD Laptop (AMD Ryzen 5-3550H/8GB/1TB HDD/Windows 10/Radeon RX 560X 4GB Graphics/2.20 Kg), Black\n",
      "₹ 52,990.00\n",
      "https://www.amazon.in/ASUS-X509FA-EJ341T-15-6-inch-Integrated-Transparent/dp/B08913JH66/ref=zg_bs_1375424031_17/261-8413091-4364038?_encoding=UTF8&psc=1&refRID=M2VCJA9K4JCH85MSR9NF\n",
      "ASUS VivoBook 15 X509FA-EJ341T 15.6-inch Laptop (8th Gen Core i3-8145U/4GB/1TB HDD/Windows 10 Home (64bit)/Intel Integrated UHD 620 Graphics), Transparent Silver\n",
      "₹ 31,800.00\n",
      "https://www.amazon.in/Lenovo-Ideapad-Generation-Windows-81VD008NIN/dp/B08697NSJL/ref=zg_bs_1375424031_28/261-8413091-4364038?_encoding=UTF8&psc=1&refRID=M2VCJA9K4JCH85MSR9NF\n",
      "Lenovo Ideapad S145 8th Generation Intel Core i3 15.6 inch FHD Thin and Light Laptop (4GB/256 GB SSD/Windows 10/Office 2019/Grey/1.85Kg), 81VD008NIN\n",
      "₹ 33,990.00\n",
      "https://www.amazon.in/HP-di0006tu-15-6-inch-i3-8130U-Graphics/dp/B085DBWRXT/ref=zg_bs_1375424031_14/261-8413091-4364038?_encoding=UTF8&psc=1&refRID=M2VCJA9K4JCH85MSR9NF\n",
      "HP 15 di0006tu 15.6-inch Laptop (8th Gen i3-8130U/4GB/1TB HDD/Windows 10/Intel UHD 620 Graphics), Jet Black\n",
      "₹ 31,989.00\n",
      "https://www.amazon.in/HP-ds0058TU-15-6-inch-i3-8130U-Windows/dp/B085W6QPYF/ref=zg_bs_1375424031_37/261-8413091-4364038?_encoding=UTF8&psc=1&refRID=M2VCJA9K4JCH85MSR9NF\n",
      "HP 15q ds0058TU 15.6-inch Laptop (8th Gen Core i3-8130U/4GB/1TB HDD/Windows 10 Home/MS Office 2019), Jet Black\n",
      "₹ 33,490.00\n",
      "https://www.amazon.in/HP-Laptop-Windows-Natural-14s-cr2000tu/dp/B08428CSZF/ref=zg_bs_1375424031_12/261-8413091-4364038?_encoding=UTF8&psc=1&refRID=M2VCJA9K4JCH85MSR9NF\n",
      "HP 14s core i5 10th Gen 14 inch FHD Laptop (8 GB/256 GB SSD/1TB HDD/Windows 10/MS Office 2019/Natural Silver /1.43kg) 14s-cr2000tu\n",
      "₹ 57,990.00\n",
      "https://www.amazon.in/Lenovo-Ideapad-A6-9225-Windows-81N30063IN/dp/B081Z4H8BM/ref=zg_bs_1375424031_3/261-8413091-4364038?_encoding=UTF8&psc=1&refRID=M2VCJA9K4JCH85MSR9NF\n",
      "Lenovo Ideapad S145 AMD A6-9225 15.6 inch HD Thin and Light Laptop (4GB/1TB/Windows 10/Grey/1.85Kg), 81N30063IN\n",
      "₹ 23,970.00\n",
      "https://www.amazon.in/HP-14-inch-Laptop-Windows-cs0017TU/dp/B07S5VRTK9/ref=zg_bs_1375424031_13/261-8413091-4364038?_encoding=UTF8&psc=1&refRID=M2VCJA9K4JCH85MSR9NF\n",
      "HP 14 8th Gen Intel Core i5 Processor 14-inch Thin and Light Laptop (8GB/1TB HDD/Windows 10 Home/MS Office/Smoke Gray/1.59 kg), 14q cs0017TU\n",
      "₹ 46,990.00\n"
     ]
    }
   ],
   "source": [
    "\n",
    "for link in page_links_new:\n",
    "    title, price = (None, None)\n",
    "    try:\n",
    "        title, price = scrape_product_title_and_price(link)\n",
    "    except:\n",
    "        pass\n",
    "    if title != None and price != None:\n",
    "        print(link)\n",
    "        print(title)\n",
    "        print(price)\n",
    "        "
   ]
  },
  {
   "cell_type": "code",
   "execution_count": 19,
   "metadata": {},
   "outputs": [],
   "source": [
    "# <base-url>/<slug>/dp/<product_id>/"
   ]
  }
 ],
 "metadata": {
  "kernelspec": {
   "display_name": "Python 3",
   "language": "python",
   "name": "python3"
  },
  "language_info": {
   "codemirror_mode": {
    "name": "ipython",
    "version": 3
   },
   "file_extension": ".py",
   "mimetype": "text/x-python",
   "name": "python",
   "nbconvert_exporter": "python",
   "pygments_lexer": "ipython3",
   "version": "3.8.0"
  }
 },
 "nbformat": 4,
 "nbformat_minor": 4
}
