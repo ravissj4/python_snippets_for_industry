{
 "cells": [
  {
   "cell_type": "code",
   "execution_count": 3,
   "metadata": {},
   "outputs": [],
   "source": [
    "import os\n",
    "import pandas as pd"
   ]
  },
  {
   "cell_type": "code",
   "execution_count": 14,
   "metadata": {},
   "outputs": [],
   "source": [
    "# practice with pandas\n",
    "# create a list of dicts :\n",
    "dicts = [{'movie' : 'raja hindustani', \"lead\" : \"amir khan\"}, {'movie' : \"zindagi na milegi dobara\" , \"lead\" : ('hrithik', 'farhan', 'abhay')}]"
   ]
  },
  {
   "cell_type": "code",
   "execution_count": 15,
   "metadata": {},
   "outputs": [],
   "source": [
    "df = pd.DataFrame(dicts)"
   ]
  },
  {
   "cell_type": "code",
   "execution_count": 16,
   "metadata": {},
   "outputs": [
    {
     "data": {
      "text/html": [
       "<div>\n",
       "<style scoped>\n",
       "    .dataframe tbody tr th:only-of-type {\n",
       "        vertical-align: middle;\n",
       "    }\n",
       "\n",
       "    .dataframe tbody tr th {\n",
       "        vertical-align: top;\n",
       "    }\n",
       "\n",
       "    .dataframe thead th {\n",
       "        text-align: right;\n",
       "    }\n",
       "</style>\n",
       "<table border=\"1\" class=\"dataframe\">\n",
       "  <thead>\n",
       "    <tr style=\"text-align: right;\">\n",
       "      <th></th>\n",
       "      <th>movie</th>\n",
       "      <th>lead</th>\n",
       "    </tr>\n",
       "  </thead>\n",
       "  <tbody>\n",
       "    <tr>\n",
       "      <th>0</th>\n",
       "      <td>raja hindustani</td>\n",
       "      <td>amir khan</td>\n",
       "    </tr>\n",
       "    <tr>\n",
       "      <th>1</th>\n",
       "      <td>zindagi na milegi dobara</td>\n",
       "      <td>(hrithik, farhan, abhay)</td>\n",
       "    </tr>\n",
       "  </tbody>\n",
       "</table>\n",
       "</div>"
      ],
      "text/plain": [
       "                      movie                      lead\n",
       "0           raja hindustani                 amir khan\n",
       "1  zindagi na milegi dobara  (hrithik, farhan, abhay)"
      ]
     },
     "execution_count": 16,
     "metadata": {},
     "output_type": "execute_result"
    }
   ],
   "source": [
    "df.head()"
   ]
  },
  {
   "cell_type": "code",
   "execution_count": 17,
   "metadata": {},
   "outputs": [
    {
     "data": {
      "text/plain": [
       "movie    raja hindustani\n",
       "lead           amir khan\n",
       "Name: 0, dtype: object"
      ]
     },
     "execution_count": 17,
     "metadata": {},
     "output_type": "execute_result"
    }
   ],
   "source": [
    "df.iloc[0]"
   ]
  },
  {
   "cell_type": "code",
   "execution_count": 7,
   "metadata": {},
   "outputs": [],
   "source": [
    "# main work starts here : \n",
    "BASE_DIR = os.path.dirname(os.getcwd())\n",
    "DATA_DIR = os.path.join(BASE_DIR, 'data')"
   ]
  },
  {
   "cell_type": "code",
   "execution_count": 8,
   "metadata": {},
   "outputs": [
    {
     "data": {
      "text/plain": [
       "['.~lock.2016.csv#',\n",
       " '2005.csv',\n",
       " '2006.csv',\n",
       " '2007.csv',\n",
       " '2008.csv',\n",
       " '2009.csv',\n",
       " '2010.csv',\n",
       " '2011.csv',\n",
       " '2012.csv',\n",
       " '2013.csv',\n",
       " '2014.csv',\n",
       " '2015.csv',\n",
       " '2016.csv',\n",
       " '2017.csv',\n",
       " '2018.csv',\n",
       " '2019.csv',\n",
       " '2020.csv']"
      ]
     },
     "execution_count": 8,
     "metadata": {},
     "output_type": "execute_result"
    }
   ],
   "source": [
    "os.listdir(DATA_DIR)"
   ]
  },
  {
   "cell_type": "code",
   "execution_count": 9,
   "metadata": {},
   "outputs": [],
   "source": [
    "df = pd.read_csv(os.path.join(DATA_DIR, '2020.csv'))"
   ]
  },
  {
   "cell_type": "code",
   "execution_count": 10,
   "metadata": {},
   "outputs": [
    {
     "data": {
      "text/html": [
       "<div>\n",
       "<style scoped>\n",
       "    .dataframe tbody tr th:only-of-type {\n",
       "        vertical-align: middle;\n",
       "    }\n",
       "\n",
       "    .dataframe tbody tr th {\n",
       "        vertical-align: top;\n",
       "    }\n",
       "\n",
       "    .dataframe thead th {\n",
       "        text-align: right;\n",
       "    }\n",
       "</style>\n",
       "<table border=\"1\" class=\"dataframe\">\n",
       "  <thead>\n",
       "    <tr style=\"text-align: right;\">\n",
       "      <th></th>\n",
       "      <th>Rank</th>\n",
       "      <th>Release Group</th>\n",
       "      <th>Worldwide</th>\n",
       "      <th>Domestic</th>\n",
       "      <th>%</th>\n",
       "      <th>Foreign</th>\n",
       "      <th>%.1</th>\n",
       "    </tr>\n",
       "  </thead>\n",
       "  <tbody>\n",
       "    <tr>\n",
       "      <th>0</th>\n",
       "      <td>1</td>\n",
       "      <td>Bad Boys for Life</td>\n",
       "      <td>$419,074,646</td>\n",
       "      <td>$204,417,855</td>\n",
       "      <td>48.8%</td>\n",
       "      <td>$214,656,791</td>\n",
       "      <td>51.2%</td>\n",
       "    </tr>\n",
       "    <tr>\n",
       "      <th>1</th>\n",
       "      <td>2</td>\n",
       "      <td>Sonic the Hedgehog</td>\n",
       "      <td>$306,766,470</td>\n",
       "      <td>$146,066,470</td>\n",
       "      <td>47.6%</td>\n",
       "      <td>$160,700,000</td>\n",
       "      <td>52.4%</td>\n",
       "    </tr>\n",
       "    <tr>\n",
       "      <th>2</th>\n",
       "      <td>3</td>\n",
       "      <td>Dolittle</td>\n",
       "      <td>$223,343,452</td>\n",
       "      <td>$77,047,065</td>\n",
       "      <td>34.5%</td>\n",
       "      <td>$146,296,387</td>\n",
       "      <td>65.5%</td>\n",
       "    </tr>\n",
       "    <tr>\n",
       "      <th>3</th>\n",
       "      <td>4</td>\n",
       "      <td>Birds of Prey: And the Fantabulous Emancipatio...</td>\n",
       "      <td>$201,858,461</td>\n",
       "      <td>$84,158,461</td>\n",
       "      <td>41.7%</td>\n",
       "      <td>$117,700,000</td>\n",
       "      <td>58.3%</td>\n",
       "    </tr>\n",
       "    <tr>\n",
       "      <th>4</th>\n",
       "      <td>5</td>\n",
       "      <td>The Invisible Man</td>\n",
       "      <td>$122,914,050</td>\n",
       "      <td>$64,914,050</td>\n",
       "      <td>52.8%</td>\n",
       "      <td>$58,000,000</td>\n",
       "      <td>47.2%</td>\n",
       "    </tr>\n",
       "  </tbody>\n",
       "</table>\n",
       "</div>"
      ],
      "text/plain": [
       "   Rank                                      Release Group     Worldwide  \\\n",
       "0     1                                  Bad Boys for Life  $419,074,646   \n",
       "1     2                                 Sonic the Hedgehog  $306,766,470   \n",
       "2     3                                           Dolittle  $223,343,452   \n",
       "3     4  Birds of Prey: And the Fantabulous Emancipatio...  $201,858,461   \n",
       "4     5                                  The Invisible Man  $122,914,050   \n",
       "\n",
       "       Domestic      %       Foreign    %.1  \n",
       "0  $204,417,855  48.8%  $214,656,791  51.2%  \n",
       "1  $146,066,470  47.6%  $160,700,000  52.4%  \n",
       "2   $77,047,065  34.5%  $146,296,387  65.5%  \n",
       "3   $84,158,461  41.7%  $117,700,000  58.3%  \n",
       "4   $64,914,050  52.8%   $58,000,000  47.2%  "
      ]
     },
     "execution_count": 10,
     "metadata": {},
     "output_type": "execute_result"
    }
   ],
   "source": [
    "df.head()"
   ]
  },
  {
   "cell_type": "code",
   "execution_count": 12,
   "metadata": {},
   "outputs": [
    {
     "data": {
      "text/plain": [
       "Rank                             1\n",
       "Release Group    Bad Boys for Life\n",
       "Worldwide             $419,074,646\n",
       "Domestic              $204,417,855\n",
       "%                            48.8%\n",
       "Foreign               $214,656,791\n",
       "%.1                          51.2%\n",
       "Name: 0, dtype: object"
      ]
     },
     "execution_count": 12,
     "metadata": {},
     "output_type": "execute_result"
    }
   ],
   "source": [
    "df.iloc[0]"
   ]
  },
  {
   "cell_type": "code",
   "execution_count": null,
   "metadata": {},
   "outputs": [],
   "source": []
  }
 ],
 "metadata": {
  "kernelspec": {
   "display_name": "Python 3",
   "language": "python",
   "name": "python3"
  },
  "language_info": {
   "codemirror_mode": {
    "name": "ipython",
    "version": 3
   },
   "file_extension": ".py",
   "mimetype": "text/x-python",
   "name": "python",
   "nbconvert_exporter": "python",
   "pygments_lexer": "ipython3",
   "version": "3.8.0"
  }
 },
 "nbformat": 4,
 "nbformat_minor": 4
}
